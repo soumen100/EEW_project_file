{
  "nbformat": 4,
  "nbformat_minor": 0,
  "metadata": {
    "colab": {
      "name": "Seismic data analysis.ipynb",
      "provenance": [],
      "collapsed_sections": []
    },
    "kernelspec": {
      "name": "python3",
      "display_name": "Python 3"
    }
  },
  "cells": [
    {
      "cell_type": "code",
      "metadata": {
        "id": "ZecsrlYFpGYN"
      },
      "source": [
        "import pandas as pd\n",
        "\n",
        "data = pd.read_csv(\"/content/drive/MyDrive/Data_10years/Dataset_Final - Sheet1 (3) - Dataset_Final - Sheet1 (3).csv\")\n",
        "\n",
        "data = data.sample(frac = 1)"
      ],
      "execution_count": 133,
      "outputs": []
    },
    {
      "cell_type": "code",
      "metadata": {
        "colab": {
          "base_uri": "https://localhost:8080/",
          "height": 284
        },
        "id": "88hJHExm-gUv",
        "outputId": "c61d940b-33f1-4f04-b526-745902b78625"
      },
      "source": [
        "data.describe()"
      ],
      "execution_count": 134,
      "outputs": [
        {
          "output_type": "execute_result",
          "data": {
            "text/html": [
              "<div>\n",
              "<style scoped>\n",
              "    .dataframe tbody tr th:only-of-type {\n",
              "        vertical-align: middle;\n",
              "    }\n",
              "\n",
              "    .dataframe tbody tr th {\n",
              "        vertical-align: top;\n",
              "    }\n",
              "\n",
              "    .dataframe thead th {\n",
              "        text-align: right;\n",
              "    }\n",
              "</style>\n",
              "<table border=\"1\" class=\"dataframe\">\n",
              "  <thead>\n",
              "    <tr style=\"text-align: right;\">\n",
              "      <th></th>\n",
              "      <th>Pd</th>\n",
              "      <th>Tauc</th>\n",
              "      <th>Magnitude</th>\n",
              "    </tr>\n",
              "  </thead>\n",
              "  <tbody>\n",
              "    <tr>\n",
              "      <th>count</th>\n",
              "      <td>300.000000</td>\n",
              "      <td>300.000000</td>\n",
              "      <td>300.00000</td>\n",
              "    </tr>\n",
              "    <tr>\n",
              "      <th>mean</th>\n",
              "      <td>0.043770</td>\n",
              "      <td>4.158302</td>\n",
              "      <td>4.77700</td>\n",
              "    </tr>\n",
              "    <tr>\n",
              "      <th>std</th>\n",
              "      <td>0.105538</td>\n",
              "      <td>2.912840</td>\n",
              "      <td>0.87433</td>\n",
              "    </tr>\n",
              "    <tr>\n",
              "      <th>min</th>\n",
              "      <td>0.001523</td>\n",
              "      <td>0.160575</td>\n",
              "      <td>2.50000</td>\n",
              "    </tr>\n",
              "    <tr>\n",
              "      <th>25%</th>\n",
              "      <td>0.007805</td>\n",
              "      <td>1.450726</td>\n",
              "      <td>4.20000</td>\n",
              "    </tr>\n",
              "    <tr>\n",
              "      <th>50%</th>\n",
              "      <td>0.015769</td>\n",
              "      <td>3.566640</td>\n",
              "      <td>4.70000</td>\n",
              "    </tr>\n",
              "    <tr>\n",
              "      <th>75%</th>\n",
              "      <td>0.034281</td>\n",
              "      <td>6.774268</td>\n",
              "      <td>5.30000</td>\n",
              "    </tr>\n",
              "    <tr>\n",
              "      <th>max</th>\n",
              "      <td>0.828050</td>\n",
              "      <td>10.516920</td>\n",
              "      <td>7.80000</td>\n",
              "    </tr>\n",
              "  </tbody>\n",
              "</table>\n",
              "</div>"
            ],
            "text/plain": [
              "               Pd        Tauc  Magnitude\n",
              "count  300.000000  300.000000  300.00000\n",
              "mean     0.043770    4.158302    4.77700\n",
              "std      0.105538    2.912840    0.87433\n",
              "min      0.001523    0.160575    2.50000\n",
              "25%      0.007805    1.450726    4.20000\n",
              "50%      0.015769    3.566640    4.70000\n",
              "75%      0.034281    6.774268    5.30000\n",
              "max      0.828050   10.516920    7.80000"
            ]
          },
          "metadata": {
            "tags": []
          },
          "execution_count": 134
        }
      ]
    },
    {
      "cell_type": "markdown",
      "metadata": {
        "id": "jc_1KMIr25oD"
      },
      "source": [
        "# **Finding correlation**\n",
        "The Pearson correlation is also known as the “product moment correlation coefficient” (PMCC) or simply “correlation”. Pearson correlations are only suitable for quantitative variables (including dichotomous variables)."
      ]
    },
    {
      "cell_type": "code",
      "metadata": {
        "id": "mASxGHjFxLIk",
        "colab": {
          "base_uri": "https://localhost:8080/"
        },
        "outputId": "238a0090-ae0f-4a3f-ff0d-7244aed1cd4b"
      },
      "source": [
        "pearcorr = data.corr(method ='pearson')\n",
        "print(pearcorr)"
      ],
      "execution_count": 135,
      "outputs": [
        {
          "output_type": "stream",
          "text": [
            "                 Pd      Tauc  Magnitude\n",
            "Pd         1.000000  0.330489   0.373511\n",
            "Tauc       0.330489  1.000000   0.264687\n",
            "Magnitude  0.373511  0.264687   1.000000\n"
          ],
          "name": "stdout"
        }
      ]
    },
    {
      "cell_type": "markdown",
      "metadata": {
        "id": "mkgrR7gQ3WSA"
      },
      "source": [
        "# Creating two classes for alarm\n",
        "The class 0 is for magnitude <= 5.5 ie. no alarm\n",
        "The class 1 is for magnitude > 5.5 ie. alarm"
      ]
    },
    {
      "cell_type": "code",
      "metadata": {
        "id": "0Zlqoe7RqDyq",
        "colab": {
          "base_uri": "https://localhost:8080/",
          "height": 195
        },
        "outputId": "c0420038-d3d6-47e0-c2a0-d76e9a575b46"
      },
      "source": [
        "mag = data['Magnitude']\n",
        "clf = []\n",
        "for i in mag:\n",
        "  if i <= 5.5:\n",
        "    clf.append(0)\n",
        "\n",
        "  else:\n",
        "    clf.append(1)\n",
        "\n",
        "data[\"clf\"] = clf\n",
        "data.head()"
      ],
      "execution_count": 136,
      "outputs": [
        {
          "output_type": "execute_result",
          "data": {
            "text/html": [
              "<div>\n",
              "<style scoped>\n",
              "    .dataframe tbody tr th:only-of-type {\n",
              "        vertical-align: middle;\n",
              "    }\n",
              "\n",
              "    .dataframe tbody tr th {\n",
              "        vertical-align: top;\n",
              "    }\n",
              "\n",
              "    .dataframe thead th {\n",
              "        text-align: right;\n",
              "    }\n",
              "</style>\n",
              "<table border=\"1\" class=\"dataframe\">\n",
              "  <thead>\n",
              "    <tr style=\"text-align: right;\">\n",
              "      <th></th>\n",
              "      <th>Center</th>\n",
              "      <th>Pd</th>\n",
              "      <th>Tauc</th>\n",
              "      <th>Magnitude</th>\n",
              "      <th>clf</th>\n",
              "    </tr>\n",
              "  </thead>\n",
              "  <tbody>\n",
              "    <tr>\n",
              "      <th>238</th>\n",
              "      <td>20100501-Distt. Bageshwar Uttarakhand-Three Co...</td>\n",
              "      <td>0.203630</td>\n",
              "      <td>8.762039</td>\n",
              "      <td>4.6</td>\n",
              "      <td>0</td>\n",
              "    </tr>\n",
              "    <tr>\n",
              "      <th>138</th>\n",
              "      <td>Bageshwar_Three Component Data_Champawat - She...</td>\n",
              "      <td>0.002288</td>\n",
              "      <td>5.126570</td>\n",
              "      <td>4.3</td>\n",
              "      <td>0</td>\n",
              "    </tr>\n",
              "    <tr>\n",
              "      <th>99</th>\n",
              "      <td>Manipur meghalaya Border Region_Three Componen...</td>\n",
              "      <td>0.095145</td>\n",
              "      <td>3.178585</td>\n",
              "      <td>5.3</td>\n",
              "      <td>0</td>\n",
              "    </tr>\n",
              "    <tr>\n",
              "      <th>16</th>\n",
              "      <td>Delhi-Haryana-CRRI - Sheet1.csv</td>\n",
              "      <td>0.009409</td>\n",
              "      <td>1.037975</td>\n",
              "      <td>4.3</td>\n",
              "      <td>0</td>\n",
              "    </tr>\n",
              "    <tr>\n",
              "      <th>284</th>\n",
              "      <td>Alwar Earthquake-Alwar - Sheet1.csv 1</td>\n",
              "      <td>0.024071</td>\n",
              "      <td>1.103470</td>\n",
              "      <td>3.9</td>\n",
              "      <td>0</td>\n",
              "    </tr>\n",
              "  </tbody>\n",
              "</table>\n",
              "</div>"
            ],
            "text/plain": [
              "                                                Center  ...  clf\n",
              "238  20100501-Distt. Bageshwar Uttarakhand-Three Co...  ...    0\n",
              "138  Bageshwar_Three Component Data_Champawat - She...  ...    0\n",
              "99   Manipur meghalaya Border Region_Three Componen...  ...    0\n",
              "16                     Delhi-Haryana-CRRI - Sheet1.csv  ...    0\n",
              "284              Alwar Earthquake-Alwar - Sheet1.csv 1  ...    0\n",
              "\n",
              "[5 rows x 5 columns]"
            ]
          },
          "metadata": {
            "tags": []
          },
          "execution_count": 136
        }
      ]
    },
    {
      "cell_type": "code",
      "metadata": {
        "id": "3l_d1Zf9hRQD",
        "colab": {
          "base_uri": "https://localhost:8080/",
          "height": 343
        },
        "outputId": "2b229d5c-aa5d-4276-de66-ab883abd03b5"
      },
      "source": [
        "data.drop([\"Center\", \"Magnitude\"], axis = 1, inplace = True)\n",
        "df = data.copy()\n",
        "data.head(10)"
      ],
      "execution_count": 137,
      "outputs": [
        {
          "output_type": "execute_result",
          "data": {
            "text/html": [
              "<div>\n",
              "<style scoped>\n",
              "    .dataframe tbody tr th:only-of-type {\n",
              "        vertical-align: middle;\n",
              "    }\n",
              "\n",
              "    .dataframe tbody tr th {\n",
              "        vertical-align: top;\n",
              "    }\n",
              "\n",
              "    .dataframe thead th {\n",
              "        text-align: right;\n",
              "    }\n",
              "</style>\n",
              "<table border=\"1\" class=\"dataframe\">\n",
              "  <thead>\n",
              "    <tr style=\"text-align: right;\">\n",
              "      <th></th>\n",
              "      <th>Pd</th>\n",
              "      <th>Tauc</th>\n",
              "      <th>clf</th>\n",
              "    </tr>\n",
              "  </thead>\n",
              "  <tbody>\n",
              "    <tr>\n",
              "      <th>238</th>\n",
              "      <td>0.203630</td>\n",
              "      <td>8.762039</td>\n",
              "      <td>0</td>\n",
              "    </tr>\n",
              "    <tr>\n",
              "      <th>138</th>\n",
              "      <td>0.002288</td>\n",
              "      <td>5.126570</td>\n",
              "      <td>0</td>\n",
              "    </tr>\n",
              "    <tr>\n",
              "      <th>99</th>\n",
              "      <td>0.095145</td>\n",
              "      <td>3.178585</td>\n",
              "      <td>0</td>\n",
              "    </tr>\n",
              "    <tr>\n",
              "      <th>16</th>\n",
              "      <td>0.009409</td>\n",
              "      <td>1.037975</td>\n",
              "      <td>0</td>\n",
              "    </tr>\n",
              "    <tr>\n",
              "      <th>284</th>\n",
              "      <td>0.024071</td>\n",
              "      <td>1.103470</td>\n",
              "      <td>0</td>\n",
              "    </tr>\n",
              "    <tr>\n",
              "      <th>8</th>\n",
              "      <td>0.024071</td>\n",
              "      <td>1.103470</td>\n",
              "      <td>0</td>\n",
              "    </tr>\n",
              "    <tr>\n",
              "      <th>206</th>\n",
              "      <td>0.003404</td>\n",
              "      <td>2.913939</td>\n",
              "      <td>0</td>\n",
              "    </tr>\n",
              "    <tr>\n",
              "      <th>283</th>\n",
              "      <td>0.014944</td>\n",
              "      <td>1.321682</td>\n",
              "      <td>0</td>\n",
              "    </tr>\n",
              "    <tr>\n",
              "      <th>231</th>\n",
              "      <td>0.012136</td>\n",
              "      <td>7.863555</td>\n",
              "      <td>0</td>\n",
              "    </tr>\n",
              "    <tr>\n",
              "      <th>245</th>\n",
              "      <td>0.024087</td>\n",
              "      <td>6.770648</td>\n",
              "      <td>0</td>\n",
              "    </tr>\n",
              "  </tbody>\n",
              "</table>\n",
              "</div>"
            ],
            "text/plain": [
              "           Pd      Tauc  clf\n",
              "238  0.203630  8.762039    0\n",
              "138  0.002288  5.126570    0\n",
              "99   0.095145  3.178585    0\n",
              "16   0.009409  1.037975    0\n",
              "284  0.024071  1.103470    0\n",
              "8    0.024071  1.103470    0\n",
              "206  0.003404  2.913939    0\n",
              "283  0.014944  1.321682    0\n",
              "231  0.012136  7.863555    0\n",
              "245  0.024087  6.770648    0"
            ]
          },
          "metadata": {
            "tags": []
          },
          "execution_count": 137
        }
      ]
    },
    {
      "cell_type": "markdown",
      "metadata": {
        "id": "Yiut75Dk4G_r"
      },
      "source": [
        "# **What is a Z-Score?**\n",
        "Simply put, a z-score (also called a standard score) gives you an idea of how far from the mean a data point is. But more technically it’s a measure of how many standard deviations below or above the population mean a raw score is.\n",
        "\n",
        "A z-score can be placed on a normal distribution curve. Z-scores range from -3 standard deviations (which would fall to the far left of the normal distribution curve) up to +3 standard deviations (which would fall to the far right of the normal distribution curve). In order to use a z-score, you need to know the mean μ and also the population standard deviation σ.\n",
        "\n",
        "The basic z score formula for a sample is:\n",
        "z = (x – μ) / σ\n",
        "\n"
      ]
    },
    {
      "cell_type": "code",
      "metadata": {
        "id": "sC8tfgB4QPcR",
        "colab": {
          "base_uri": "https://localhost:8080/",
          "height": 343
        },
        "outputId": "e0fc7723-e762-4349-aeb5-f0c7cb53ed73"
      },
      "source": [
        "from scipy import stats\n",
        "data[\"Pd\"] = stats.zscore(data[\"Pd\"])\n",
        "data[\"Tauc\"] = stats.zscore(data[\"Tauc\"])\n",
        "df2 = data.copy()\n",
        "df3 = data.copy()\n",
        "data.head(10)"
      ],
      "execution_count": 138,
      "outputs": [
        {
          "output_type": "execute_result",
          "data": {
            "text/html": [
              "<div>\n",
              "<style scoped>\n",
              "    .dataframe tbody tr th:only-of-type {\n",
              "        vertical-align: middle;\n",
              "    }\n",
              "\n",
              "    .dataframe tbody tr th {\n",
              "        vertical-align: top;\n",
              "    }\n",
              "\n",
              "    .dataframe thead th {\n",
              "        text-align: right;\n",
              "    }\n",
              "</style>\n",
              "<table border=\"1\" class=\"dataframe\">\n",
              "  <thead>\n",
              "    <tr style=\"text-align: right;\">\n",
              "      <th></th>\n",
              "      <th>Pd</th>\n",
              "      <th>Tauc</th>\n",
              "      <th>clf</th>\n",
              "    </tr>\n",
              "  </thead>\n",
              "  <tbody>\n",
              "    <tr>\n",
              "      <th>238</th>\n",
              "      <td>1.517245</td>\n",
              "      <td>1.583139</td>\n",
              "      <td>0</td>\n",
              "    </tr>\n",
              "    <tr>\n",
              "      <th>138</th>\n",
              "      <td>-0.393712</td>\n",
              "      <td>0.332969</td>\n",
              "      <td>0</td>\n",
              "    </tr>\n",
              "    <tr>\n",
              "      <th>99</th>\n",
              "      <td>0.487602</td>\n",
              "      <td>-0.336906</td>\n",
              "      <td>0</td>\n",
              "    </tr>\n",
              "    <tr>\n",
              "      <th>16</th>\n",
              "      <td>-0.326117</td>\n",
              "      <td>-1.073022</td>\n",
              "      <td>0</td>\n",
              "    </tr>\n",
              "    <tr>\n",
              "      <th>284</th>\n",
              "      <td>-0.186965</td>\n",
              "      <td>-1.050499</td>\n",
              "      <td>0</td>\n",
              "    </tr>\n",
              "    <tr>\n",
              "      <th>8</th>\n",
              "      <td>-0.186965</td>\n",
              "      <td>-1.050499</td>\n",
              "      <td>0</td>\n",
              "    </tr>\n",
              "    <tr>\n",
              "      <th>206</th>\n",
              "      <td>-0.383118</td>\n",
              "      <td>-0.427913</td>\n",
              "      <td>0</td>\n",
              "    </tr>\n",
              "    <tr>\n",
              "      <th>283</th>\n",
              "      <td>-0.273588</td>\n",
              "      <td>-0.975460</td>\n",
              "      <td>0</td>\n",
              "    </tr>\n",
              "    <tr>\n",
              "      <th>231</th>\n",
              "      <td>-0.300242</td>\n",
              "      <td>1.274167</td>\n",
              "      <td>0</td>\n",
              "    </tr>\n",
              "    <tr>\n",
              "      <th>245</th>\n",
              "      <td>-0.186814</td>\n",
              "      <td>0.898337</td>\n",
              "      <td>0</td>\n",
              "    </tr>\n",
              "  </tbody>\n",
              "</table>\n",
              "</div>"
            ],
            "text/plain": [
              "           Pd      Tauc  clf\n",
              "238  1.517245  1.583139    0\n",
              "138 -0.393712  0.332969    0\n",
              "99   0.487602 -0.336906    0\n",
              "16  -0.326117 -1.073022    0\n",
              "284 -0.186965 -1.050499    0\n",
              "8   -0.186965 -1.050499    0\n",
              "206 -0.383118 -0.427913    0\n",
              "283 -0.273588 -0.975460    0\n",
              "231 -0.300242  1.274167    0\n",
              "245 -0.186814  0.898337    0"
            ]
          },
          "metadata": {
            "tags": []
          },
          "execution_count": 138
        }
      ]
    },
    {
      "cell_type": "code",
      "metadata": {
        "id": "T24UZPTulTQ8"
      },
      "source": [
        "import numpy as np\n",
        "\n",
        "y = np.array(data[\"clf\"].reset_index(drop = True))\n",
        "X = np.array(data.drop([\"clf\"], axis = 1))"
      ],
      "execution_count": 139,
      "outputs": []
    },
    {
      "cell_type": "markdown",
      "metadata": {
        "id": "1rh7qrDT4iCy"
      },
      "source": [
        "# **What is Support Vector Machine?**\n",
        "\n",
        "An SVM model is a representation of the examples as points in space, mapped so that the examples of the separate categories are divided by a clear gap that is as wide as possible.\n",
        "In addition to performing linear classification, SVMs can efficiently perform a non-linear classification, implicitly mapping their inputs into high-dimensional feature spaces."
      ]
    },
    {
      "cell_type": "code",
      "metadata": {
        "id": "dve1j7tcm76d",
        "colab": {
          "base_uri": "https://localhost:8080/"
        },
        "outputId": "d9a0fbad-d36f-40a1-9a69-05a1199aacf5"
      },
      "source": [
        "from sklearn.svm import SVC\n",
        "from sklearn.model_selection import train_test_split\n",
        "from sklearn.metrics import accuracy_score\n",
        "\n",
        "train_x, test_x, train_y, test_y = train_test_split(X, y, test_size = .20, random_state = 0)\n",
        "svc = SVC(kernel = 'rbf')\n",
        "svc.fit(train_x, train_y)\n",
        "pr = svc.predict(test_x)\n",
        "accuracy_score(test_y, pr)"
      ],
      "execution_count": 140,
      "outputs": [
        {
          "output_type": "execute_result",
          "data": {
            "text/plain": [
              "0.8666666666666667"
            ]
          },
          "metadata": {
            "tags": []
          },
          "execution_count": 140
        }
      ]
    },
    {
      "cell_type": "markdown",
      "metadata": {
        "id": "nXc6Ey9s5eIU"
      },
      "source": [
        "# ***Plot of decision boundary***\n"
      ]
    },
    {
      "cell_type": "code",
      "metadata": {
        "id": "tCQnPcAvvtL8",
        "colab": {
          "base_uri": "https://localhost:8080/",
          "height": 334
        },
        "outputId": "8db579a5-31f0-42ea-8b65-f2df7be34740"
      },
      "source": [
        "from mlxtend.plotting import plot_decision_regions\n",
        "import matplotlib.pyplot as plt\n",
        "\n",
        "fig = plot_decision_regions(X, y, clf = svc,  legend = 2, colors = 'red,blue')\n",
        "plt.title('SVM plot')\n",
        "plt.show()"
      ],
      "execution_count": 141,
      "outputs": [
        {
          "output_type": "stream",
          "text": [
            "/usr/local/lib/python3.7/dist-packages/mlxtend/plotting/decision_regions.py:244: MatplotlibDeprecationWarning: Passing unsupported keyword arguments to axis() will raise a TypeError in 3.3.\n",
            "  ax.axis(xmin=xx.min(), xmax=xx.max(), y_min=yy.min(), y_max=yy.max())\n"
          ],
          "name": "stderr"
        },
        {
          "output_type": "display_data",
          "data": {
            "image/png": "[encoded data removed]",
            "text/plain": [
              "<Figure size 432x288 with 1 Axes>"
            ]
          },
          "metadata": {
            "tags": [],
            "needs_background": "light"
          }
        }
      ]
    },
    {
      "cell_type": "markdown",
      "metadata": {
        "id": "bkov-eGM7kZX"
      },
      "source": [
        "# **Confusion Matrix**\n",
        "\n",
        "A confusion matrix is a tabular summary of the number of correct and incorrect predictions made by a classifier. It can be used to evaluate the performance of a classification model through the calculation of performance metrics like accuracy, precision, recall, and F1-score."
      ]
    },
    {
      "cell_type": "code",
      "metadata": {
        "id": "FFjp3-2a6snG",
        "colab": {
          "base_uri": "https://localhost:8080/",
          "height": 416
        },
        "outputId": "794cc730-d754-4ef2-9f20-97eac1f9cee3"
      },
      "source": [
        "from sklearn import metrics\n",
        "import seaborn as sns\n",
        "\n",
        "group_names = [\"‘True Neg\",\"False Pos\",\"False Neg\",\"True Pos\"]\n",
        "cf_matrix = metrics.confusion_matrix(test_y, pr)\n",
        "group_counts = [\"{0:0.0f}\".format(value) for value in cf_matrix.flatten()]\n",
        "labels = [f\"{v1}\\n{v2}\" for v1, v2 in zip(group_names,group_counts)]\n",
        "labels = np.asarray(labels).reshape(2,2)\n",
        "sns.heatmap(cf_matrix, annot = labels, fmt = '', cmap = \"Blues\")\n",
        "print(metrics.classification_report(test_y, pr))"
      ],
      "execution_count": 142,
      "outputs": [
        {
          "output_type": "stream",
          "text": [
            "              precision    recall  f1-score   support\n",
            "\n",
            "           0       0.85      1.00      0.92        47\n",
            "           1       1.00      0.38      0.56        13\n",
            "\n",
            "    accuracy                           0.87        60\n",
            "   macro avg       0.93      0.69      0.74        60\n",
            "weighted avg       0.89      0.87      0.84        60\n",
            "\n"
          ],
          "name": "stdout"
        },
        {
          "output_type": "display_data",
          "data": {
            "image/png": "[encoded data removed]",
            "text/plain": [
              "<Figure size 432x288 with 2 Axes>"
            ]
          },
          "metadata": {
            "tags": [],
            "needs_background": "light"
          }
        }
      ]
    },
    {
      "cell_type": "markdown",
      "metadata": {
        "id": "ommxcSo2AUL-"
      },
      "source": [
        "# **Naive Bayes**"
      ]
    },
    {
      "cell_type": "code",
      "metadata": {
        "colab": {
          "base_uri": "https://localhost:8080/",
          "height": 343
        },
        "id": "MXgHjdLsAZnt",
        "outputId": "b2537c16-bdf0-41d7-ef01-faf673c798a5"
      },
      "source": [
        "df.head(10)"
      ],
      "execution_count": 143,
      "outputs": [
        {
          "output_type": "execute_result",
          "data": {
            "text/html": [
              "<div>\n",
              "<style scoped>\n",
              "    .dataframe tbody tr th:only-of-type {\n",
              "        vertical-align: middle;\n",
              "    }\n",
              "\n",
              "    .dataframe tbody tr th {\n",
              "        vertical-align: top;\n",
              "    }\n",
              "\n",
              "    .dataframe thead th {\n",
              "        text-align: right;\n",
              "    }\n",
              "</style>\n",
              "<table border=\"1\" class=\"dataframe\">\n",
              "  <thead>\n",
              "    <tr style=\"text-align: right;\">\n",
              "      <th></th>\n",
              "      <th>Pd</th>\n",
              "      <th>Tauc</th>\n",
              "      <th>clf</th>\n",
              "    </tr>\n",
              "  </thead>\n",
              "  <tbody>\n",
              "    <tr>\n",
              "      <th>238</th>\n",
              "      <td>0.203630</td>\n",
              "      <td>8.762039</td>\n",
              "      <td>0</td>\n",
              "    </tr>\n",
              "    <tr>\n",
              "      <th>138</th>\n",
              "      <td>0.002288</td>\n",
              "      <td>5.126570</td>\n",
              "      <td>0</td>\n",
              "    </tr>\n",
              "    <tr>\n",
              "      <th>99</th>\n",
              "      <td>0.095145</td>\n",
              "      <td>3.178585</td>\n",
              "      <td>0</td>\n",
              "    </tr>\n",
              "    <tr>\n",
              "      <th>16</th>\n",
              "      <td>0.009409</td>\n",
              "      <td>1.037975</td>\n",
              "      <td>0</td>\n",
              "    </tr>\n",
              "    <tr>\n",
              "      <th>284</th>\n",
              "      <td>0.024071</td>\n",
              "      <td>1.103470</td>\n",
              "      <td>0</td>\n",
              "    </tr>\n",
              "    <tr>\n",
              "      <th>8</th>\n",
              "      <td>0.024071</td>\n",
              "      <td>1.103470</td>\n",
              "      <td>0</td>\n",
              "    </tr>\n",
              "    <tr>\n",
              "      <th>206</th>\n",
              "      <td>0.003404</td>\n",
              "      <td>2.913939</td>\n",
              "      <td>0</td>\n",
              "    </tr>\n",
              "    <tr>\n",
              "      <th>283</th>\n",
              "      <td>0.014944</td>\n",
              "      <td>1.321682</td>\n",
              "      <td>0</td>\n",
              "    </tr>\n",
              "    <tr>\n",
              "      <th>231</th>\n",
              "      <td>0.012136</td>\n",
              "      <td>7.863555</td>\n",
              "      <td>0</td>\n",
              "    </tr>\n",
              "    <tr>\n",
              "      <th>245</th>\n",
              "      <td>0.024087</td>\n",
              "      <td>6.770648</td>\n",
              "      <td>0</td>\n",
              "    </tr>\n",
              "  </tbody>\n",
              "</table>\n",
              "</div>"
            ],
            "text/plain": [
              "           Pd      Tauc  clf\n",
              "238  0.203630  8.762039    0\n",
              "138  0.002288  5.126570    0\n",
              "99   0.095145  3.178585    0\n",
              "16   0.009409  1.037975    0\n",
              "284  0.024071  1.103470    0\n",
              "8    0.024071  1.103470    0\n",
              "206  0.003404  2.913939    0\n",
              "283  0.014944  1.321682    0\n",
              "231  0.012136  7.863555    0\n",
              "245  0.024087  6.770648    0"
            ]
          },
          "metadata": {
            "tags": []
          },
          "execution_count": 143
        }
      ]
    },
    {
      "cell_type": "code",
      "metadata": {
        "colab": {
          "base_uri": "https://localhost:8080/",
          "height": 343
        },
        "id": "U_0rortyAg04",
        "outputId": "728516cd-7e7e-43ad-d044-ab93968e5600"
      },
      "source": [
        "from sklearn.preprocessing import LabelEncoder\n",
        "\n",
        "df[\"Pd\"] = LabelEncoder().fit_transform(df[\"Pd\"])\n",
        "df[\"Tauc\"] = LabelEncoder().fit_transform(df[\"Tauc\"])\n",
        "\n",
        "df.head(10)"
      ],
      "execution_count": 144,
      "outputs": [
        {
          "output_type": "execute_result",
          "data": {
            "text/html": [
              "<div>\n",
              "<style scoped>\n",
              "    .dataframe tbody tr th:only-of-type {\n",
              "        vertical-align: middle;\n",
              "    }\n",
              "\n",
              "    .dataframe tbody tr th {\n",
              "        vertical-align: top;\n",
              "    }\n",
              "\n",
              "    .dataframe thead th {\n",
              "        text-align: right;\n",
              "    }\n",
              "</style>\n",
              "<table border=\"1\" class=\"dataframe\">\n",
              "  <thead>\n",
              "    <tr style=\"text-align: right;\">\n",
              "      <th></th>\n",
              "      <th>Pd</th>\n",
              "      <th>Tauc</th>\n",
              "      <th>clf</th>\n",
              "    </tr>\n",
              "  </thead>\n",
              "  <tbody>\n",
              "    <tr>\n",
              "      <th>238</th>\n",
              "      <td>234</td>\n",
              "      <td>226</td>\n",
              "      <td>0</td>\n",
              "    </tr>\n",
              "    <tr>\n",
              "      <th>138</th>\n",
              "      <td>7</td>\n",
              "      <td>138</td>\n",
              "      <td>0</td>\n",
              "    </tr>\n",
              "    <tr>\n",
              "      <th>99</th>\n",
              "      <td>223</td>\n",
              "      <td>109</td>\n",
              "      <td>0</td>\n",
              "    </tr>\n",
              "    <tr>\n",
              "      <th>16</th>\n",
              "      <td>71</td>\n",
              "      <td>34</td>\n",
              "      <td>0</td>\n",
              "    </tr>\n",
              "    <tr>\n",
              "      <th>284</th>\n",
              "      <td>149</td>\n",
              "      <td>37</td>\n",
              "      <td>0</td>\n",
              "    </tr>\n",
              "    <tr>\n",
              "      <th>8</th>\n",
              "      <td>149</td>\n",
              "      <td>37</td>\n",
              "      <td>0</td>\n",
              "    </tr>\n",
              "    <tr>\n",
              "      <th>206</th>\n",
              "      <td>17</td>\n",
              "      <td>100</td>\n",
              "      <td>0</td>\n",
              "    </tr>\n",
              "    <tr>\n",
              "      <th>283</th>\n",
              "      <td>108</td>\n",
              "      <td>45</td>\n",
              "      <td>0</td>\n",
              "    </tr>\n",
              "    <tr>\n",
              "      <th>231</th>\n",
              "      <td>91</td>\n",
              "      <td>205</td>\n",
              "      <td>0</td>\n",
              "    </tr>\n",
              "    <tr>\n",
              "      <th>245</th>\n",
              "      <td>150</td>\n",
              "      <td>173</td>\n",
              "      <td>0</td>\n",
              "    </tr>\n",
              "  </tbody>\n",
              "</table>\n",
              "</div>"
            ],
            "text/plain": [
              "      Pd  Tauc  clf\n",
              "238  234   226    0\n",
              "138    7   138    0\n",
              "99   223   109    0\n",
              "16    71    34    0\n",
              "284  149    37    0\n",
              "8    149    37    0\n",
              "206   17   100    0\n",
              "283  108    45    0\n",
              "231   91   205    0\n",
              "245  150   173    0"
            ]
          },
          "metadata": {
            "tags": []
          },
          "execution_count": 144
        }
      ]
    },
    {
      "cell_type": "code",
      "metadata": {
        "id": "PoORx-W5BSJH"
      },
      "source": [
        "y1 = np.array(df[\"clf\"].reset_index(drop = True))\n",
        "X1 = np.array(stats.zscore(df.drop([\"clf\"], axis = 1)))"
      ],
      "execution_count": 145,
      "outputs": []
    },
    {
      "cell_type": "code",
      "metadata": {
        "colab": {
          "base_uri": "https://localhost:8080/"
        },
        "id": "FSiwfaLFBdME",
        "outputId": "436cb355-0be1-4305-85a2-f06981abeca6"
      },
      "source": [
        "from sklearn.naive_bayes import GaussianNB\n",
        "\n",
        "X_train, X_test, y_train, y_test = train_test_split(X1, y1, test_size = 0.2, random_state = 0)\n",
        "clf = GaussianNB()\n",
        "clf.fit(X_train, y_train)\n",
        "pred = clf.predict(X_test)\n",
        "accuracy_score(y_test, pred)"
      ],
      "execution_count": 146,
      "outputs": [
        {
          "output_type": "execute_result",
          "data": {
            "text/plain": [
              "0.8"
            ]
          },
          "metadata": {
            "tags": []
          },
          "execution_count": 146
        }
      ]
    },
    {
      "cell_type": "code",
      "metadata": {
        "colab": {
          "base_uri": "https://localhost:8080/",
          "height": 334
        },
        "id": "VaKv-7_PDMw4",
        "outputId": "b258ddf5-5324-4d0e-9a28-e347bcfa1013"
      },
      "source": [
        "fig1 = plot_decision_regions(X1, y1, clf = clf,  legend = 2, colors = 'red,blue')\n",
        "plt.title('Naive_Bayes plot')\n",
        "plt.show()"
      ],
      "execution_count": 147,
      "outputs": [
        {
          "output_type": "stream",
          "text": [
            "/usr/local/lib/python3.7/dist-packages/mlxtend/plotting/decision_regions.py:244: MatplotlibDeprecationWarning: Passing unsupported keyword arguments to axis() will raise a TypeError in 3.3.\n",
            "  ax.axis(xmin=xx.min(), xmax=xx.max(), y_min=yy.min(), y_max=yy.max())\n"
          ],
          "name": "stderr"
        },
        {
          "output_type": "display_data",
          "data": {
            "image/png": "[encoded data removed]",
            "text/plain": [
              "<Figure size 432x288 with 1 Axes>"
            ]
          },
          "metadata": {
            "tags": [],
            "needs_background": "light"
          }
        }
      ]
    },
    {
      "cell_type": "code",
      "metadata": {
        "colab": {
          "base_uri": "https://localhost:8080/",
          "height": 416
        },
        "id": "7DoA5bUrD6jE",
        "outputId": "85030d10-92d6-4ea6-b439-9fbb2f1b3ae6"
      },
      "source": [
        "group_names = [\"‘True Neg\",\"False Pos\",\"False Neg\",\"True Pos\"]\n",
        "cf_matrix = metrics.confusion_matrix(y_test, pred)\n",
        "group_counts = [\"{0:0.0f}\".format(value) for value in cf_matrix.flatten()]\n",
        "labels = [f\"{v1}\\n{v2}\" for v1, v2 in zip(group_names,group_counts)]\n",
        "labels = np.asarray(labels).reshape(2,2)\n",
        "sns.heatmap(cf_matrix, annot = labels, fmt = '', cmap = \"Greens\")\n",
        "print(metrics.classification_report(y_test, pred))"
      ],
      "execution_count": 148,
      "outputs": [
        {
          "output_type": "stream",
          "text": [
            "              precision    recall  f1-score   support\n",
            "\n",
            "           0       0.86      0.89      0.88        47\n",
            "           1       0.55      0.46      0.50        13\n",
            "\n",
            "    accuracy                           0.80        60\n",
            "   macro avg       0.70      0.68      0.69        60\n",
            "weighted avg       0.79      0.80      0.79        60\n",
            "\n"
          ],
          "name": "stdout"
        },
        {
          "output_type": "display_data",
          "data": {
            "image/png": "[encoded data removed]",
            "text/plain": [
              "<Figure size 432x288 with 2 Axes>"
            ]
          },
          "metadata": {
            "tags": [],
            "needs_background": "light"
          }
        }
      ]
    },
    {
      "cell_type": "markdown",
      "metadata": {
        "id": "dYyJRmV6QDF2"
      },
      "source": [
        "# **K Nearest Neighbour**"
      ]
    },
    {
      "cell_type": "code",
      "metadata": {
        "colab": {
          "base_uri": "https://localhost:8080/",
          "height": 343
        },
        "id": "18S1Ln0WPquz",
        "outputId": "b31ab843-f2c8-4ffb-840a-4b64cade7ca0"
      },
      "source": [
        "df2.head(10)"
      ],
      "execution_count": 149,
      "outputs": [
        {
          "output_type": "execute_result",
          "data": {
            "text/html": [
              "<div>\n",
              "<style scoped>\n",
              "    .dataframe tbody tr th:only-of-type {\n",
              "        vertical-align: middle;\n",
              "    }\n",
              "\n",
              "    .dataframe tbody tr th {\n",
              "        vertical-align: top;\n",
              "    }\n",
              "\n",
              "    .dataframe thead th {\n",
              "        text-align: right;\n",
              "    }\n",
              "</style>\n",
              "<table border=\"1\" class=\"dataframe\">\n",
              "  <thead>\n",
              "    <tr style=\"text-align: right;\">\n",
              "      <th></th>\n",
              "      <th>Pd</th>\n",
              "      <th>Tauc</th>\n",
              "      <th>clf</th>\n",
              "    </tr>\n",
              "  </thead>\n",
              "  <tbody>\n",
              "    <tr>\n",
              "      <th>238</th>\n",
              "      <td>1.517245</td>\n",
              "      <td>1.583139</td>\n",
              "      <td>0</td>\n",
              "    </tr>\n",
              "    <tr>\n",
              "      <th>138</th>\n",
              "      <td>-0.393712</td>\n",
              "      <td>0.332969</td>\n",
              "      <td>0</td>\n",
              "    </tr>\n",
              "    <tr>\n",
              "      <th>99</th>\n",
              "      <td>0.487602</td>\n",
              "      <td>-0.336906</td>\n",
              "      <td>0</td>\n",
              "    </tr>\n",
              "    <tr>\n",
              "      <th>16</th>\n",
              "      <td>-0.326117</td>\n",
              "      <td>-1.073022</td>\n",
              "      <td>0</td>\n",
              "    </tr>\n",
              "    <tr>\n",
              "      <th>284</th>\n",
              "      <td>-0.186965</td>\n",
              "      <td>-1.050499</td>\n",
              "      <td>0</td>\n",
              "    </tr>\n",
              "    <tr>\n",
              "      <th>8</th>\n",
              "      <td>-0.186965</td>\n",
              "      <td>-1.050499</td>\n",
              "      <td>0</td>\n",
              "    </tr>\n",
              "    <tr>\n",
              "      <th>206</th>\n",
              "      <td>-0.383118</td>\n",
              "      <td>-0.427913</td>\n",
              "      <td>0</td>\n",
              "    </tr>\n",
              "    <tr>\n",
              "      <th>283</th>\n",
              "      <td>-0.273588</td>\n",
              "      <td>-0.975460</td>\n",
              "      <td>0</td>\n",
              "    </tr>\n",
              "    <tr>\n",
              "      <th>231</th>\n",
              "      <td>-0.300242</td>\n",
              "      <td>1.274167</td>\n",
              "      <td>0</td>\n",
              "    </tr>\n",
              "    <tr>\n",
              "      <th>245</th>\n",
              "      <td>-0.186814</td>\n",
              "      <td>0.898337</td>\n",
              "      <td>0</td>\n",
              "    </tr>\n",
              "  </tbody>\n",
              "</table>\n",
              "</div>"
            ],
            "text/plain": [
              "           Pd      Tauc  clf\n",
              "238  1.517245  1.583139    0\n",
              "138 -0.393712  0.332969    0\n",
              "99   0.487602 -0.336906    0\n",
              "16  -0.326117 -1.073022    0\n",
              "284 -0.186965 -1.050499    0\n",
              "8   -0.186965 -1.050499    0\n",
              "206 -0.383118 -0.427913    0\n",
              "283 -0.273588 -0.975460    0\n",
              "231 -0.300242  1.274167    0\n",
              "245 -0.186814  0.898337    0"
            ]
          },
          "metadata": {
            "tags": []
          },
          "execution_count": 149
        }
      ]
    },
    {
      "cell_type": "code",
      "metadata": {
        "id": "84ToGjCUQS5c"
      },
      "source": [
        "y2 = np.array(df2[\"clf\"].reset_index(drop = True))\n",
        "X2 = np.array(stats.zscore(df2.drop([\"clf\"], axis = 1)))"
      ],
      "execution_count": 150,
      "outputs": []
    },
    {
      "cell_type": "code",
      "metadata": {
        "colab": {
          "base_uri": "https://localhost:8080/"
        },
        "id": "4MprZyFJRZzW",
        "outputId": "679806e1-bc11-45be-a8a4-5d5e6deeaa8d"
      },
      "source": [
        "from sklearn.neighbors import KNeighborsClassifier\n",
        "\n",
        "X_train, X_test, y_train, y_test = train_test_split(X2, y2, test_size = 0.2, random_state = 0)\n",
        "knn = KNeighborsClassifier(n_neighbors = 3)\n",
        "knn.fit(X_train, y_train)\n",
        "prediction = knn.predict(X_test)\n",
        "accuracy_score(y_test, prediction)"
      ],
      "execution_count": 151,
      "outputs": [
        {
          "output_type": "execute_result",
          "data": {
            "text/plain": [
              "0.85"
            ]
          },
          "metadata": {
            "tags": []
          },
          "execution_count": 151
        }
      ]
    },
    {
      "cell_type": "code",
      "metadata": {
        "colab": {
          "base_uri": "https://localhost:8080/",
          "height": 334
        },
        "id": "Sh3mF7mnTLHR",
        "outputId": "2b92db95-7ed8-46ae-908f-1a0a5c7a9091"
      },
      "source": [
        "fig2 = plot_decision_regions(X2, y2, clf = knn,  legend = 2, colors = 'red,blue')\n",
        "plt.title('KNearestNeighbor plot')\n",
        "plt.show()"
      ],
      "execution_count": 152,
      "outputs": [
        {
          "output_type": "stream",
          "text": [
            "/usr/local/lib/python3.7/dist-packages/mlxtend/plotting/decision_regions.py:244: MatplotlibDeprecationWarning: Passing unsupported keyword arguments to axis() will raise a TypeError in 3.3.\n",
            "  ax.axis(xmin=xx.min(), xmax=xx.max(), y_min=yy.min(), y_max=yy.max())\n"
          ],
          "name": "stderr"
        },
        {
          "output_type": "display_data",
          "data": {
            "image/png": "[encoded data removed]",
            "text/plain": [
              "<Figure size 432x288 with 1 Axes>"
            ]
          },
          "metadata": {
            "tags": [],
            "needs_background": "light"
          }
        }
      ]
    },
    {
      "cell_type": "code",
      "metadata": {
        "colab": {
          "base_uri": "https://localhost:8080/",
          "height": 416
        },
        "id": "FPQLixLyTazU",
        "outputId": "c7dd7613-62a0-4992-cf3a-222737ecb020"
      },
      "source": [
        "group_names = [\"‘True Neg\",\"False Pos\",\"False Neg\",\"True Pos\"]\n",
        "cf_matrix = metrics.confusion_matrix(y_test, prediction)\n",
        "group_counts = [\"{0:0.0f}\".format(value) for value in cf_matrix.flatten()]\n",
        "labels = [f\"{v1}\\n{v2}\" for v1, v2 in zip(group_names,group_counts)]\n",
        "labels = np.asarray(labels).reshape(2,2)\n",
        "sns.heatmap(cf_matrix, annot = labels, fmt = '', cmap = \"flare\")\n",
        "print(metrics.classification_report(y_test, pred))"
      ],
      "execution_count": 153,
      "outputs": [
        {
          "output_type": "stream",
          "text": [
            "              precision    recall  f1-score   support\n",
            "\n",
            "           0       0.86      0.89      0.88        47\n",
            "           1       0.55      0.46      0.50        13\n",
            "\n",
            "    accuracy                           0.80        60\n",
            "   macro avg       0.70      0.68      0.69        60\n",
            "weighted avg       0.79      0.80      0.79        60\n",
            "\n"
          ],
          "name": "stdout"
        },
        {
          "output_type": "display_data",
          "data": {
            "image/png": "[encoded data removed]",
            "text/plain": [
              "<Figure size 432x288 with 2 Axes>"
            ]
          },
          "metadata": {
            "tags": [],
            "needs_background": "light"
          }
        }
      ]
    },
    {
      "cell_type": "markdown",
      "metadata": {
        "id": "YEF_2Yl1X73N"
      },
      "source": [
        "# **Logistic Regression**"
      ]
    },
    {
      "cell_type": "code",
      "metadata": {
        "colab": {
          "base_uri": "https://localhost:8080/",
          "height": 343
        },
        "id": "kEdhfhPsX_P6",
        "outputId": "da2ce201-9bde-4b80-9125-1094b259b2f0"
      },
      "source": [
        "df3.head(10)"
      ],
      "execution_count": 154,
      "outputs": [
        {
          "output_type": "execute_result",
          "data": {
            "text/html": [
              "<div>\n",
              "<style scoped>\n",
              "    .dataframe tbody tr th:only-of-type {\n",
              "        vertical-align: middle;\n",
              "    }\n",
              "\n",
              "    .dataframe tbody tr th {\n",
              "        vertical-align: top;\n",
              "    }\n",
              "\n",
              "    .dataframe thead th {\n",
              "        text-align: right;\n",
              "    }\n",
              "</style>\n",
              "<table border=\"1\" class=\"dataframe\">\n",
              "  <thead>\n",
              "    <tr style=\"text-align: right;\">\n",
              "      <th></th>\n",
              "      <th>Pd</th>\n",
              "      <th>Tauc</th>\n",
              "      <th>clf</th>\n",
              "    </tr>\n",
              "  </thead>\n",
              "  <tbody>\n",
              "    <tr>\n",
              "      <th>238</th>\n",
              "      <td>1.517245</td>\n",
              "      <td>1.583139</td>\n",
              "      <td>0</td>\n",
              "    </tr>\n",
              "    <tr>\n",
              "      <th>138</th>\n",
              "      <td>-0.393712</td>\n",
              "      <td>0.332969</td>\n",
              "      <td>0</td>\n",
              "    </tr>\n",
              "    <tr>\n",
              "      <th>99</th>\n",
              "      <td>0.487602</td>\n",
              "      <td>-0.336906</td>\n",
              "      <td>0</td>\n",
              "    </tr>\n",
              "    <tr>\n",
              "      <th>16</th>\n",
              "      <td>-0.326117</td>\n",
              "      <td>-1.073022</td>\n",
              "      <td>0</td>\n",
              "    </tr>\n",
              "    <tr>\n",
              "      <th>284</th>\n",
              "      <td>-0.186965</td>\n",
              "      <td>-1.050499</td>\n",
              "      <td>0</td>\n",
              "    </tr>\n",
              "    <tr>\n",
              "      <th>8</th>\n",
              "      <td>-0.186965</td>\n",
              "      <td>-1.050499</td>\n",
              "      <td>0</td>\n",
              "    </tr>\n",
              "    <tr>\n",
              "      <th>206</th>\n",
              "      <td>-0.383118</td>\n",
              "      <td>-0.427913</td>\n",
              "      <td>0</td>\n",
              "    </tr>\n",
              "    <tr>\n",
              "      <th>283</th>\n",
              "      <td>-0.273588</td>\n",
              "      <td>-0.975460</td>\n",
              "      <td>0</td>\n",
              "    </tr>\n",
              "    <tr>\n",
              "      <th>231</th>\n",
              "      <td>-0.300242</td>\n",
              "      <td>1.274167</td>\n",
              "      <td>0</td>\n",
              "    </tr>\n",
              "    <tr>\n",
              "      <th>245</th>\n",
              "      <td>-0.186814</td>\n",
              "      <td>0.898337</td>\n",
              "      <td>0</td>\n",
              "    </tr>\n",
              "  </tbody>\n",
              "</table>\n",
              "</div>"
            ],
            "text/plain": [
              "           Pd      Tauc  clf\n",
              "238  1.517245  1.583139    0\n",
              "138 -0.393712  0.332969    0\n",
              "99   0.487602 -0.336906    0\n",
              "16  -0.326117 -1.073022    0\n",
              "284 -0.186965 -1.050499    0\n",
              "8   -0.186965 -1.050499    0\n",
              "206 -0.383118 -0.427913    0\n",
              "283 -0.273588 -0.975460    0\n",
              "231 -0.300242  1.274167    0\n",
              "245 -0.186814  0.898337    0"
            ]
          },
          "metadata": {
            "tags": []
          },
          "execution_count": 154
        }
      ]
    },
    {
      "cell_type": "code",
      "metadata": {
        "id": "yLDRMd0OYSJc"
      },
      "source": [
        "y3 = np.array(df3[\"clf\"].reset_index(drop = True))\n",
        "X3 = np.array(stats.zscore(df3.drop([\"clf\"], axis = 1)))"
      ],
      "execution_count": 155,
      "outputs": []
    },
    {
      "cell_type": "code",
      "metadata": {
        "colab": {
          "base_uri": "https://localhost:8080/"
        },
        "id": "eUhmOuLyYZzy",
        "outputId": "80ef3bd6-c168-4a99-d259-9dfa02aafbcf"
      },
      "source": [
        "from sklearn.linear_model import LogisticRegression\n",
        "\n",
        "X_train, X_test, y_train, y_test = train_test_split(X3, y3, test_size = 0.2, random_state = 0)\n",
        "lr = LogisticRegression(random_state = 42)\n",
        "lr.fit(X_train, y_train)\n",
        "lr_pred = lr.predict(X_test)\n",
        "accuracy_score(y_test, lr_pred)"
      ],
      "execution_count": 156,
      "outputs": [
        {
          "output_type": "execute_result",
          "data": {
            "text/plain": [
              "0.8666666666666667"
            ]
          },
          "metadata": {
            "tags": []
          },
          "execution_count": 156
        }
      ]
    },
    {
      "cell_type": "code",
      "metadata": {
        "colab": {
          "base_uri": "https://localhost:8080/",
          "height": 334
        },
        "id": "DVHQkrDSZDoI",
        "outputId": "ccd5e84b-1499-44b1-e073-e2ebc3968c98"
      },
      "source": [
        "fig3 = plot_decision_regions(X3, y3, clf = lr,  legend = 2, colors = 'red,blue')\n",
        "plt.title('Logistic plot')\n",
        "plt.show()"
      ],
      "execution_count": 157,
      "outputs": [
        {
          "output_type": "stream",
          "text": [
            "/usr/local/lib/python3.7/dist-packages/mlxtend/plotting/decision_regions.py:244: MatplotlibDeprecationWarning: Passing unsupported keyword arguments to axis() will raise a TypeError in 3.3.\n",
            "  ax.axis(xmin=xx.min(), xmax=xx.max(), y_min=yy.min(), y_max=yy.max())\n"
          ],
          "name": "stderr"
        },
        {
          "output_type": "display_data",
          "data": {
            "image/png": "[encoded data removed]",
            "text/plain": [
              "<Figure size 432x288 with 1 Axes>"
            ]
          },
          "metadata": {
            "tags": [],
            "needs_background": "light"
          }
        }
      ]
    },
    {
      "cell_type": "code",
      "metadata": {
        "colab": {
          "base_uri": "https://localhost:8080/",
          "height": 416
        },
        "id": "NfwUt3r5aWLh",
        "outputId": "057631b6-71db-4bab-866c-cf40330c5eba"
      },
      "source": [
        "group_names = [\"‘True Neg\",\"False Pos\",\"False Neg\",\"True Pos\"]\n",
        "cf_matrix = metrics.confusion_matrix(y_test, lr_pred)\n",
        "group_counts = [\"{0:0.0f}\".format(value) for value in cf_matrix.flatten()]\n",
        "labels = [f\"{v1}\\n{v2}\" for v1, v2 in zip(group_names,group_counts)]\n",
        "labels = np.asarray(labels).reshape(2,2)\n",
        "sns.heatmap(cf_matrix, annot = labels, fmt = '', cmap = \"crest\")\n",
        "print(metrics.classification_report(y_test, lr_pred))"
      ],
      "execution_count": 158,
      "outputs": [
        {
          "output_type": "stream",
          "text": [
            "              precision    recall  f1-score   support\n",
            "\n",
            "           0       0.87      0.98      0.92        47\n",
            "           1       0.86      0.46      0.60        13\n",
            "\n",
            "    accuracy                           0.87        60\n",
            "   macro avg       0.86      0.72      0.76        60\n",
            "weighted avg       0.87      0.87      0.85        60\n",
            "\n"
          ],
          "name": "stdout"
        },
        {
          "output_type": "display_data",
          "data": {
            "image/png": "[encoded data removed]",
            "text/plain": [
              "<Figure size 432x288 with 2 Axes>"
            ]
          },
          "metadata": {
            "tags": [],
            "needs_background": "light"
          }
        }
      ]
    }
  ]
}